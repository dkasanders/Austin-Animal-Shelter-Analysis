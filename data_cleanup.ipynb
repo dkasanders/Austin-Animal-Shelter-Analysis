{
 "cells": [
  {
   "cell_type": "code",
   "execution_count": 1,
   "id": "72f67522",
   "metadata": {},
   "outputs": [],
   "source": [
    "import pandas as pd\n",
    "import numpy as np\n",
    "from geopy.geocoders import Nominatim\n",
    "from geopy.extra.rate_limiter import RateLimiter"
   ]
  },
  {
   "cell_type": "code",
   "execution_count": 2,
   "id": "26343631",
   "metadata": {},
   "outputs": [],
   "source": [
    "pd.set_option('display.max_rows', None)\n",
    "pd.set_option('display.max_columns', None)"
   ]
  },
  {
   "cell_type": "code",
   "execution_count": 3,
   "id": "16c69632",
   "metadata": {},
   "outputs": [],
   "source": [
    "intake_df = pd.read_csv('Austin Animal Center Intakes.csv')\n",
    "outtake_df = pd.read_csv('Austin Animal Center Outcomes.csv')"
   ]
  },
  {
   "cell_type": "code",
   "execution_count": 4,
   "id": "c6d10331",
   "metadata": {},
   "outputs": [
    {
     "data": {
      "text/html": [
       "<div>\n",
       "<style scoped>\n",
       "    .dataframe tbody tr th:only-of-type {\n",
       "        vertical-align: middle;\n",
       "    }\n",
       "\n",
       "    .dataframe tbody tr th {\n",
       "        vertical-align: top;\n",
       "    }\n",
       "\n",
       "    .dataframe thead th {\n",
       "        text-align: right;\n",
       "    }\n",
       "</style>\n",
       "<table border=\"1\" class=\"dataframe\">\n",
       "  <thead>\n",
       "    <tr style=\"text-align: right;\">\n",
       "      <th></th>\n",
       "      <th>Animal ID</th>\n",
       "      <th>Name</th>\n",
       "      <th>DateTime</th>\n",
       "      <th>MonthYear</th>\n",
       "      <th>Found Location</th>\n",
       "      <th>Intake Type</th>\n",
       "      <th>Intake Condition</th>\n",
       "      <th>Animal Type</th>\n",
       "      <th>Sex upon Intake</th>\n",
       "      <th>Age upon Intake</th>\n",
       "      <th>Breed</th>\n",
       "      <th>Color</th>\n",
       "    </tr>\n",
       "  </thead>\n",
       "  <tbody>\n",
       "    <tr>\n",
       "      <th>count</th>\n",
       "      <td>157627</td>\n",
       "      <td>112208</td>\n",
       "      <td>157627</td>\n",
       "      <td>157627</td>\n",
       "      <td>157627</td>\n",
       "      <td>157627</td>\n",
       "      <td>157627</td>\n",
       "      <td>157627</td>\n",
       "      <td>157625</td>\n",
       "      <td>157626</td>\n",
       "      <td>157627</td>\n",
       "      <td>157627</td>\n",
       "    </tr>\n",
       "    <tr>\n",
       "      <th>unique</th>\n",
       "      <td>141420</td>\n",
       "      <td>27590</td>\n",
       "      <td>109311</td>\n",
       "      <td>123</td>\n",
       "      <td>64704</td>\n",
       "      <td>6</td>\n",
       "      <td>20</td>\n",
       "      <td>5</td>\n",
       "      <td>5</td>\n",
       "      <td>54</td>\n",
       "      <td>2887</td>\n",
       "      <td>635</td>\n",
       "    </tr>\n",
       "    <tr>\n",
       "      <th>top</th>\n",
       "      <td>A721033</td>\n",
       "      <td>Max</td>\n",
       "      <td>09/23/2016 12:00:00 PM</td>\n",
       "      <td>June 2015</td>\n",
       "      <td>Austin (TX)</td>\n",
       "      <td>Stray</td>\n",
       "      <td>Normal</td>\n",
       "      <td>Dog</td>\n",
       "      <td>Intact Male</td>\n",
       "      <td>1 year</td>\n",
       "      <td>Domestic Shorthair Mix</td>\n",
       "      <td>Black/White</td>\n",
       "    </tr>\n",
       "    <tr>\n",
       "      <th>freq</th>\n",
       "      <td>33</td>\n",
       "      <td>680</td>\n",
       "      <td>64</td>\n",
       "      <td>2189</td>\n",
       "      <td>28977</td>\n",
       "      <td>108088</td>\n",
       "      <td>134680</td>\n",
       "      <td>87191</td>\n",
       "      <td>53011</td>\n",
       "      <td>25931</td>\n",
       "      <td>33285</td>\n",
       "      <td>16428</td>\n",
       "    </tr>\n",
       "  </tbody>\n",
       "</table>\n",
       "</div>"
      ],
      "text/plain": [
       "       Animal ID    Name                DateTime  MonthYear Found Location  \\\n",
       "count     157627  112208                  157627     157627         157627   \n",
       "unique    141420   27590                  109311        123          64704   \n",
       "top      A721033     Max  09/23/2016 12:00:00 PM  June 2015    Austin (TX)   \n",
       "freq          33     680                      64       2189          28977   \n",
       "\n",
       "       Intake Type Intake Condition Animal Type Sex upon Intake  \\\n",
       "count       157627           157627      157627          157625   \n",
       "unique           6               20           5               5   \n",
       "top          Stray           Normal         Dog     Intact Male   \n",
       "freq        108088           134680       87191           53011   \n",
       "\n",
       "       Age upon Intake                   Breed        Color  \n",
       "count           157626                  157627       157627  \n",
       "unique              54                    2887          635  \n",
       "top             1 year  Domestic Shorthair Mix  Black/White  \n",
       "freq             25931                   33285        16428  "
      ]
     },
     "execution_count": 4,
     "metadata": {},
     "output_type": "execute_result"
    }
   ],
   "source": [
    "intake_df.describe()"
   ]
  },
  {
   "cell_type": "code",
   "execution_count": 5,
   "id": "e83024d0",
   "metadata": {},
   "outputs": [
    {
     "data": {
      "text/html": [
       "<div>\n",
       "<style scoped>\n",
       "    .dataframe tbody tr th:only-of-type {\n",
       "        vertical-align: middle;\n",
       "    }\n",
       "\n",
       "    .dataframe tbody tr th {\n",
       "        vertical-align: top;\n",
       "    }\n",
       "\n",
       "    .dataframe thead th {\n",
       "        text-align: right;\n",
       "    }\n",
       "</style>\n",
       "<table border=\"1\" class=\"dataframe\">\n",
       "  <thead>\n",
       "    <tr style=\"text-align: right;\">\n",
       "      <th></th>\n",
       "      <th>Animal ID</th>\n",
       "      <th>Name</th>\n",
       "      <th>DateTime</th>\n",
       "      <th>MonthYear</th>\n",
       "      <th>Date of Birth</th>\n",
       "      <th>Outcome Type</th>\n",
       "      <th>Outcome Subtype</th>\n",
       "      <th>Animal Type</th>\n",
       "      <th>Sex upon Outcome</th>\n",
       "      <th>Age upon Outcome</th>\n",
       "      <th>Breed</th>\n",
       "      <th>Color</th>\n",
       "    </tr>\n",
       "  </thead>\n",
       "  <tbody>\n",
       "    <tr>\n",
       "      <th>count</th>\n",
       "      <td>157566</td>\n",
       "      <td>112276</td>\n",
       "      <td>157566</td>\n",
       "      <td>157566</td>\n",
       "      <td>157566</td>\n",
       "      <td>157536</td>\n",
       "      <td>72548</td>\n",
       "      <td>157566</td>\n",
       "      <td>157564</td>\n",
       "      <td>157564</td>\n",
       "      <td>157566</td>\n",
       "      <td>157566</td>\n",
       "    </tr>\n",
       "    <tr>\n",
       "      <th>unique</th>\n",
       "      <td>141347</td>\n",
       "      <td>27503</td>\n",
       "      <td>131291</td>\n",
       "      <td>123</td>\n",
       "      <td>8153</td>\n",
       "      <td>10</td>\n",
       "      <td>26</td>\n",
       "      <td>5</td>\n",
       "      <td>5</td>\n",
       "      <td>54</td>\n",
       "      <td>2889</td>\n",
       "      <td>637</td>\n",
       "    </tr>\n",
       "    <tr>\n",
       "      <th>top</th>\n",
       "      <td>A721033</td>\n",
       "      <td>Max</td>\n",
       "      <td>04/18/2016 12:00:00 AM</td>\n",
       "      <td>Jun 2019</td>\n",
       "      <td>05/01/2016</td>\n",
       "      <td>Adoption</td>\n",
       "      <td>Partner</td>\n",
       "      <td>Dog</td>\n",
       "      <td>Neutered Male</td>\n",
       "      <td>1 year</td>\n",
       "      <td>Domestic Shorthair Mix</td>\n",
       "      <td>Black/White</td>\n",
       "    </tr>\n",
       "    <tr>\n",
       "      <th>freq</th>\n",
       "      <td>33</td>\n",
       "      <td>678</td>\n",
       "      <td>39</td>\n",
       "      <td>2244</td>\n",
       "      <td>120</td>\n",
       "      <td>74468</td>\n",
       "      <td>37451</td>\n",
       "      <td>87091</td>\n",
       "      <td>55185</td>\n",
       "      <td>26334</td>\n",
       "      <td>33626</td>\n",
       "      <td>16429</td>\n",
       "    </tr>\n",
       "  </tbody>\n",
       "</table>\n",
       "</div>"
      ],
      "text/plain": [
       "       Animal ID    Name                DateTime MonthYear Date of Birth  \\\n",
       "count     157566  112276                  157566    157566        157566   \n",
       "unique    141347   27503                  131291       123          8153   \n",
       "top      A721033     Max  04/18/2016 12:00:00 AM  Jun 2019    05/01/2016   \n",
       "freq          33     678                      39      2244           120   \n",
       "\n",
       "       Outcome Type Outcome Subtype Animal Type Sex upon Outcome  \\\n",
       "count        157536           72548      157566           157564   \n",
       "unique           10              26           5                5   \n",
       "top        Adoption         Partner         Dog    Neutered Male   \n",
       "freq          74468           37451       87091            55185   \n",
       "\n",
       "       Age upon Outcome                   Breed        Color  \n",
       "count            157564                  157566       157566  \n",
       "unique               54                    2889          637  \n",
       "top              1 year  Domestic Shorthair Mix  Black/White  \n",
       "freq              26334                   33626        16429  "
      ]
     },
     "execution_count": 5,
     "metadata": {},
     "output_type": "execute_result"
    }
   ],
   "source": [
    "outtake_df.describe()"
   ]
  },
  {
   "cell_type": "markdown",
   "id": "fcc0cefb",
   "metadata": {},
   "source": [
    "The difference between count of Animal ID and unique values of Animal ID in the intake file suggest that Animal ID alone isn't a sufficent way to identify animals for analysing intakes."
   ]
  },
  {
   "cell_type": "code",
   "execution_count": 6,
   "id": "ea27c2a9",
   "metadata": {},
   "outputs": [
    {
     "name": "stdout",
     "output_type": "stream",
     "text": [
      "All animal_id values in intake file are unique: False All animal_id values in outtake file are unique: False\n"
     ]
    }
   ],
   "source": [
    "print(f\"All animal_id values in intake file are unique: {intake_df['Animal ID'].is_unique} All animal_id values in outtake file are unique: {outtake_df['Animal ID'].is_unique}\")"
   ]
  },
  {
   "cell_type": "code",
   "execution_count": null,
   "id": "de857a9a",
   "metadata": {},
   "outputs": [],
   "source": [
    "duplicate_intake_animals = intake_df.loc[intake_df['Animal ID'].duplicated(keep=False), 'Animal ID'].unique()\n",
    "duplicate_rows = intake_df[intake_df['Animal ID'].isin(duplicate_intake_animals)]\n",
    "print(duplicate_rows.sort_values(by='Animal ID'))"
   ]
  },
  {
   "cell_type": "code",
   "execution_count": null,
   "id": "99e48ca3",
   "metadata": {},
   "outputs": [],
   "source": [
    "duplicate_outtake_animals = outtake_df.loc[outtake_df['Animal ID'].duplicated(keep=False), 'Animal ID'].unique()\n",
    "duplicate_rows_outtake = outtake_df[outtake_df['Animal ID'].isin(duplicate_outtake_animals)]\n",
    "print(duplicate_rows_outtake.sort_values(by='Animal ID'))"
   ]
  },
  {
   "cell_type": "markdown",
   "id": "822519fa",
   "metadata": {},
   "source": [
    "Looking at Animal ID A893746 we see they're outtaked twice with the same reason \"Adoption.\" Is there a intake between those two adoption times, signifying a return? \n",
    "\n",
    "Watson adoption 1: 5/6/23\n",
    "Watson owner surrender: 5/25/23\n",
    "Watson adoption 2: 9/9/23"
   ]
  },
  {
   "cell_type": "code",
   "execution_count": null,
   "id": "f85262e7",
   "metadata": {},
   "outputs": [],
   "source": [
    "print(intake_df[intake_df['Animal ID'] == 'A893746'])"
   ]
  },
  {
   "cell_type": "markdown",
   "id": "7aee1150",
   "metadata": {},
   "source": [
    "Let's look at Animal ID A892023 (Willard) who was marked for adoption on both 11/13/23 and 11/26/23. Is there intake activity in between these dates?\n",
    "\n",
    "Willard adoption 1: 11/13/23\n",
    "Willard owner surrender: 11/15/23\n",
    "Willard adoption 2: 11/26/23"
   ]
  },
  {
   "cell_type": "code",
   "execution_count": null,
   "id": "97321410",
   "metadata": {},
   "outputs": [],
   "source": [
    "print(intake_df[intake_df['Animal ID'] == 'A892023'])"
   ]
  },
  {
   "cell_type": "markdown",
   "id": "f6685e4a",
   "metadata": {},
   "source": [
    "How many \"true duplicates\" are there for inttake or outtake records?"
   ]
  },
  {
   "cell_type": "code",
   "execution_count": 11,
   "id": "47596681",
   "metadata": {},
   "outputs": [
    {
     "name": "stdout",
     "output_type": "stream",
     "text": [
      "Intake duplicates 29 Outtake duplicates 23\n"
     ]
    }
   ],
   "source": [
    "intake_duplicates = intake_df.duplicated().sum()\n",
    "outtake_duplicates = outtake_df.duplicated().sum()\n",
    "\n",
    "print(f\"Intake duplicates {intake_duplicates} Outtake duplicates {outtake_duplicates}\")"
   ]
  },
  {
   "cell_type": "markdown",
   "id": "7d6141aa",
   "metadata": {},
   "source": [
    "Let's go ahead and remove all \"true duplicates\" from our dataframe"
   ]
  },
  {
   "cell_type": "code",
   "execution_count": 12,
   "id": "aa8b4e8a",
   "metadata": {},
   "outputs": [],
   "source": [
    "intake_df = intake_df.drop_duplicates()\n",
    "outtake_df = outtake_df.drop_duplicates()"
   ]
  },
  {
   "cell_type": "code",
   "execution_count": 13,
   "id": "1249c8a5",
   "metadata": {},
   "outputs": [
    {
     "name": "stdout",
     "output_type": "stream",
     "text": [
      "Intake duplicates 0 Outtake duplicates 0\n"
     ]
    }
   ],
   "source": [
    "#Sanity check\n",
    "intake_duplicates = intake_df.duplicated().sum()\n",
    "outtake_duplicates = outtake_df.duplicated().sum()\n",
    "\n",
    "print(f\"Intake duplicates {intake_duplicates} Outtake duplicates {outtake_duplicates}\")"
   ]
  },
  {
   "cell_type": "code",
   "execution_count": null,
   "id": "58671dd1",
   "metadata": {},
   "outputs": [],
   "source": [
    "print(intake_df.isnull().sum())\n",
    "print(outtake_df.isnull().sum())"
   ]
  },
  {
   "cell_type": "markdown",
   "id": "bdbbb877",
   "metadata": {},
   "source": [
    "Looking at the dataframes, month_year is formatted differently across the two files:\n",
    "\n",
    "Outtake has a truncated month signature, while intakes print the full month. This can cause issues when cross comparing the two by time."
   ]
  },
  {
   "cell_type": "code",
   "execution_count": 15,
   "id": "856bfff9",
   "metadata": {},
   "outputs": [
    {
     "name": "stdout",
     "output_type": "stream",
     "text": [
      "Intake MonthYear is formatted like February 2019 while outtake MonthYear is formatted like Jan 2016\n"
     ]
    }
   ],
   "source": [
    "print(f\"Intake MonthYear is formatted like {intake_df.sample(n=1)['MonthYear'].values[0]} while outtake MonthYear is formatted like {outtake_df.sample(n=1)['MonthYear'].values[0]}\")"
   ]
  },
  {
   "cell_type": "markdown",
   "id": "762fa46b",
   "metadata": {},
   "source": [
    "To resolve this, we will convert the intake MonthYear value to match the outtake MonthYear value"
   ]
  },
  {
   "cell_type": "code",
   "execution_count": 16,
   "id": "444f4596",
   "metadata": {},
   "outputs": [],
   "source": [
    "intake_df['MonthYear'] = pd.to_datetime(intake_df['MonthYear'], format='%B %Y')\n",
    "intake_df['MonthYear'] = intake_df['MonthYear'].dt.strftime('%b %Y')"
   ]
  },
  {
   "cell_type": "code",
   "execution_count": null,
   "id": "fe167c1b",
   "metadata": {},
   "outputs": [],
   "source": [
    "print(intake_df['MonthYear'])"
   ]
  },
  {
   "cell_type": "markdown",
   "id": "0e4cc4bd",
   "metadata": {},
   "source": [
    "Let's check for any variations in text fields, such as misspellings or different cases"
   ]
  },
  {
   "cell_type": "code",
   "execution_count": null,
   "id": "8a66147a",
   "metadata": {},
   "outputs": [],
   "source": [
    "text_based_intake_columns = ['Intake Type', 'Intake Condition', 'Animal Type', 'Sex upon Intake', 'Age upon Intake', 'Breed', 'Color']\n",
    "text_based_outtake_columns = ['Outcome Type', 'Outcome Subtype', 'Animal Type', 'Sex upon Outcome', 'Age upon Outcome', 'Breed', 'Color']\n",
    "\n",
    "print(\"INTAKES:\")\n",
    "for column_name in text_based_intake_columns:\n",
    "    print(intake_df[column_name].value_counts())\n",
    "\n",
    "print(\"OUTTAKES:\")\n",
    "for column_name in text_based_outtake_columns:\n",
    "    print(outtake_df[column_name].value_counts())\n"
   ]
  },
  {
   "cell_type": "markdown",
   "id": "a9300b3d",
   "metadata": {},
   "source": [
    "Through observation, we notice no two distinct categories for the same thing (i.e. a Intake Condition category of \"Sick\" and \"Illness\"). However, one thing to note is that the Age upon Intake and Age upon Outtake do not have a standardized format. Some go by months, days, years. For data analysis, we need to standardize these into one intger.\n",
    "\n",
    "For this project, we will be standardizing all of the ages to be number of months.\n",
    "\n",
    "For the 'day' case, we will assume 1 month = 30 days for convenience"
   ]
  },
  {
   "cell_type": "code",
   "execution_count": 19,
   "id": "38694617",
   "metadata": {},
   "outputs": [],
   "source": [
    "def age_to_months(given_age):\n",
    "    if pd.isna(given_age):\n",
    "         return np.nan \n",
    "    # This will strip it into an array of [Number, Time Unit]\n",
    "    # For example, \"1 year\" -> [\"1\", \"year\"]\n",
    "    given_age = given_age.lower().strip().split()\n",
    "    if 'year' in given_age[1]:\n",
    "         return int(given_age[0]) * 12\n",
    "    elif 'month' in given_age[1]:\n",
    "         return int(given_age[0])\n",
    "    elif 'week' in given_age[1]:\n",
    "         return int(given_age[0]) / 4\n",
    "    elif 'day' in given_age[1]:\n",
    "         return int(given_age[0]) / 30\n",
    "    else:\n",
    "         return np.nan\n",
    "         "
   ]
  },
  {
   "cell_type": "code",
   "execution_count": null,
   "id": "49eca224",
   "metadata": {},
   "outputs": [],
   "source": [
    "for age in intake_df['Age upon Intake']:\n",
    "    converted = age_to_months(age)\n",
    "    print(f\"Original: {age} => Converted: {converted}\")"
   ]
  },
  {
   "cell_type": "code",
   "execution_count": 21,
   "id": "29c34f03",
   "metadata": {},
   "outputs": [],
   "source": [
    "intake_df['Age upon Intake'] = intake_df['Age upon Intake'].apply(age_to_months)\n",
    "outtake_df['Age upon Outcome'] = outtake_df['Age upon Outcome'].apply(age_to_months)"
   ]
  },
  {
   "cell_type": "markdown",
   "id": "b580d0d2",
   "metadata": {},
   "source": [
    "We notice some negative age values."
   ]
  },
  {
   "cell_type": "code",
   "execution_count": null,
   "id": "568cb281",
   "metadata": {},
   "outputs": [],
   "source": [
    "print(intake_df[intake_df['Age upon Intake'] < 0])"
   ]
  },
  {
   "cell_type": "code",
   "execution_count": null,
   "id": "3e421d3b",
   "metadata": {},
   "outputs": [],
   "source": [
    "print(outtake_df[outtake_df['Age upon Outcome'] < 0])"
   ]
  },
  {
   "cell_type": "markdown",
   "id": "8ffba2f2",
   "metadata": {},
   "source": [
    "For this project, let's set values < 0 to NaN"
   ]
  },
  {
   "cell_type": "code",
   "execution_count": 24,
   "id": "ef166209",
   "metadata": {},
   "outputs": [],
   "source": [
    "intake_df.loc[intake_df['Age upon Intake'] < 0, 'Age upon Intake'] = np.nan\n",
    "outtake_df.loc[outtake_df['Age upon Outcome'] < 0, 'Age upon Outcome'] = np.nan"
   ]
  },
  {
   "cell_type": "code",
   "execution_count": null,
   "id": "d1a9382a",
   "metadata": {},
   "outputs": [],
   "source": [
    "print(intake_df)"
   ]
  },
  {
   "cell_type": "code",
   "execution_count": null,
   "id": "5f52fa66",
   "metadata": {},
   "outputs": [],
   "source": [
    "print(outtake_df)"
   ]
  },
  {
   "cell_type": "code",
   "execution_count": 30,
   "id": "03072efa",
   "metadata": {},
   "outputs": [],
   "source": [
    "intake_df.to_csv('processed_animal_intake.csv', index=False)\n",
    "outtake_df.to_csv('processed_animal_outtake.csv', index=False)"
   ]
  }
 ],
 "metadata": {
  "kernelspec": {
   "display_name": "Python 3",
   "language": "python",
   "name": "python3"
  },
  "language_info": {
   "codemirror_mode": {
    "name": "ipython",
    "version": 3
   },
   "file_extension": ".py",
   "mimetype": "text/x-python",
   "name": "python",
   "nbconvert_exporter": "python",
   "pygments_lexer": "ipython3",
   "version": "3.11.9"
  }
 },
 "nbformat": 4,
 "nbformat_minor": 5
}
