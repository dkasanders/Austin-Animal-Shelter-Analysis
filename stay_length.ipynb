{
 "cells": [
  {
   "cell_type": "code",
   "execution_count": 2,
   "id": "960cf92d",
   "metadata": {},
   "outputs": [],
   "source": [
    "import pandas as pd"
   ]
  },
  {
   "cell_type": "code",
   "execution_count": 3,
   "id": "ae628fb2",
   "metadata": {},
   "outputs": [],
   "source": [
    "pd.set_option('display.max_rows', None)\n",
    "pd.set_option('display.max_columns', None)"
   ]
  },
  {
   "cell_type": "code",
   "execution_count": 9,
   "id": "b3665704",
   "metadata": {},
   "outputs": [],
   "source": [
    "#Get intake and outtake\n",
    "\n",
    "intake_df = pd.read_csv('processed_animal_intake.csv')\n",
    "outtake_df = pd.read_csv('processed_animal_outtake.csv')"
   ]
  },
  {
   "cell_type": "code",
   "execution_count": 10,
   "id": "eeb87cd8",
   "metadata": {},
   "outputs": [],
   "source": [
    "intake_df['parsed_time'] = pd.to_datetime(intake_df['DateTime'], format='%m/%d/%Y %I:%M:%S %p')\n",
    "outtake_df['parsed_time'] = pd.to_datetime(outtake_df['DateTime'], format='%m/%d/%Y %I:%M:%S %p')"
   ]
  },
  {
   "cell_type": "code",
   "execution_count": 17,
   "id": "714f4fd9",
   "metadata": {},
   "outputs": [],
   "source": [
    "intake_df['parsed_time'] = pd.to_datetime(intake_df['parsed_time'])\n",
    "outtake_df['parsed_time'] = pd.to_datetime(outtake_df['parsed_time'])"
   ]
  },
  {
   "cell_type": "code",
   "execution_count": null,
   "id": "cc702d56",
   "metadata": {},
   "outputs": [],
   "source": [
    "print(intake_df['parsed_time'])"
   ]
  },
  {
   "cell_type": "code",
   "execution_count": 19,
   "id": "d8d59f9f",
   "metadata": {},
   "outputs": [],
   "source": [
    "#Sort both dfs by parsed_time\n",
    "intake_df = intake_df.sort_values(['Animal ID', 'parsed_time']).reset_index(drop=True)\n",
    "outtake_df = outtake_df.sort_values(['Animal ID', 'parsed_time']).reset_index(drop=True)"
   ]
  },
  {
   "cell_type": "code",
   "execution_count": null,
   "id": "28a41e85",
   "metadata": {},
   "outputs": [],
   "source": [
    "print(intake_df[['Animal ID', 'parsed_time']].head(10))"
   ]
  },
  {
   "cell_type": "code",
   "execution_count": null,
   "id": "8979ca40",
   "metadata": {},
   "outputs": [],
   "source": [
    "intake_df.describe"
   ]
  },
  {
   "cell_type": "code",
   "execution_count": 25,
   "id": "42272bc3",
   "metadata": {},
   "outputs": [
    {
     "name": "stdout",
     "output_type": "stream",
     "text": [
      "True\n"
     ]
    }
   ],
   "source": [
    "print(intake_df['Animal ID'].is_monotonic_increasing)"
   ]
  },
  {
   "cell_type": "code",
   "execution_count": 26,
   "id": "c3e287f8",
   "metadata": {},
   "outputs": [],
   "source": [
    "merged = pd.merge(intake_df, outtake_df, on='Animal ID', suffixes=('_intake', '_outtake'))"
   ]
  },
  {
   "cell_type": "code",
   "execution_count": 27,
   "id": "f2df8474",
   "metadata": {},
   "outputs": [],
   "source": [
    "merged = merged[merged['parsed_time_outtake'] >= merged['parsed_time_intake']]"
   ]
  },
  {
   "cell_type": "code",
   "execution_count": 29,
   "id": "b54c2f91",
   "metadata": {},
   "outputs": [],
   "source": [
    "merged['stay_in_seconds'] = (merged['parsed_time_outtake'] - merged['parsed_time_intake']).dt.total_seconds()"
   ]
  },
  {
   "cell_type": "code",
   "execution_count": null,
   "id": "fb486ed5",
   "metadata": {},
   "outputs": [],
   "source": [
    "print(merged)"
   ]
  },
  {
   "cell_type": "code",
   "execution_count": null,
   "id": "dbf23f3e",
   "metadata": {},
   "outputs": [],
   "source": [
    "merged.to_csv('matched_intake_outtake.csv', index=False)"
   ]
  }
 ],
 "metadata": {
  "kernelspec": {
   "display_name": "Python 3",
   "language": "python",
   "name": "python3"
  },
  "language_info": {
   "codemirror_mode": {
    "name": "ipython",
    "version": 3
   },
   "file_extension": ".py",
   "mimetype": "text/x-python",
   "name": "python",
   "nbconvert_exporter": "python",
   "pygments_lexer": "ipython3",
   "version": "3.11.9"
  }
 },
 "nbformat": 4,
 "nbformat_minor": 5
}
